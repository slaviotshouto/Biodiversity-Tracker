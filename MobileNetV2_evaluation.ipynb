{
 "cells": [
  {
   "cell_type": "code",
   "execution_count": 1,
   "id": "b3f0b983-d245-4bd0-94da-47c24692c564",
   "metadata": {},
   "outputs": [],
   "source": [
    "import numpy as np\n",
    "%matplotlib inline\n",
    "import matplotlib.image as mpimg\n",
    "import matplotlib.pyplot as plt\n",
    "import tensorflow as tf\n",
    "import os"
   ]
  },
  {
   "cell_type": "code",
   "execution_count": 2,
   "id": "8e0d8068-d8fb-46f1-814d-4e1935e79900",
   "metadata": {},
   "outputs": [
    {
     "name": "stdout",
     "output_type": "stream",
     "text": [
      "Found 58388 images belonging to 400 classes.\n",
      "Found 2000 images belonging to 400 classes.\n",
      "Found 2000 images belonging to 400 classes.\n"
     ]
    }
   ],
   "source": [
    "from pathlib import Path\n",
    "from tensorflow.keras.preprocessing.image import ImageDataGenerator\n",
    "\n",
    "dirs = [\"train\", \"valid\", \"test\", \"images to test\"]\n",
    "path = Path.cwd()\n",
    "train_dir = str(path) + \"\\\\\" + dirs[0]\n",
    "val_dir = str(path) + \"\\\\\" + dirs[1]\n",
    "test_dir = str(path) + \"\\\\\" + dirs[2]\n",
    "\n",
    "batch_size = 32\n",
    "\n",
    "def generate(dataset):\n",
    "    gen = ImageDataGenerator( rescale = 1.0/255. )\n",
    "    x = gen.flow_from_directory(\n",
    "        directory = dataset,\n",
    "        color_mode=\"rgb\",\n",
    "        batch_size=batch_size,\n",
    "        class_mode='categorical',\n",
    "        target_size=(224,224)\n",
    "    )\n",
    "    return x\n",
    "\n",
    "train_data = generate(train_dir)\n",
    "val_data = generate(val_dir)\n",
    "test_data = generate(test_dir)"
   ]
  },
  {
   "cell_type": "code",
   "execution_count": 21,
   "id": "f9461f86-eb30-4247-96a1-36b4a53405bc",
   "metadata": {},
   "outputs": [
    {
     "name": "stdout",
     "output_type": "stream",
     "text": [
      "{'Predictions': []}\n"
     ]
    }
   ],
   "source": [
    "import pandas as pd\n",
    "results = {'Predictions': []}\n",
    "print(results)"
   ]
  },
  {
   "cell_type": "code",
   "execution_count": 3,
   "id": "11aa5948-1950-4829-9fcc-e4eeee98edff",
   "metadata": {},
   "outputs": [],
   "source": [
    "model_V2 = tf.keras.models.load_model('good_V2_model.h5')"
   ]
  },
  {
   "cell_type": "code",
   "execution_count": 4,
   "id": "73bb2b57-a154-4984-b765-a69d1dddf041",
   "metadata": {},
   "outputs": [
    {
     "name": "stdout",
     "output_type": "stream",
     "text": [
      "63/63 [==============================] - 53s 817ms/step - loss: 1.7010 - accuracy: 0.9090\n"
     ]
    },
    {
     "data": {
      "text/plain": [
       "[1.7010095119476318, 0.9089999794960022]"
      ]
     },
     "execution_count": 4,
     "metadata": {},
     "output_type": "execute_result"
    }
   ],
   "source": [
    "model_V2.evaluate(test_data)"
   ]
  },
  {
   "cell_type": "code",
   "execution_count": 5,
   "id": "6f6907bc-96db-41d8-a703-a4a3d47c71ed",
   "metadata": {},
   "outputs": [],
   "source": [
    "import random\n",
    "\n",
    "def load_and_prep_image(filename, img_shape = 224):\n",
    "    img = tf.io.read_file(filename) #read image\n",
    "    img = tf.image.decode_image(img) # decode the image to a tensor\n",
    "    img = tf.image.resize(img, size = [img_shape, img_shape])\n",
    "    img = img/255.\n",
    "    return img\n",
    "\n",
    "# Singuar check\n",
    "def pred_and_plot(model, filename, class_names):\n",
    "    img = load_and_prep_image(filename)\n",
    "    pred = model.predict(tf.expand_dims(img, axis=0))\n",
    "    \n",
    "    if len(pred[0]) > 1: # check for multi-class\n",
    "        pred_class = class_names[pred.argmax()] # if more than one output, take the max\n",
    "    else:\n",
    "        pred_class = class_names[int(tf.round(pred)[0][0])] # if only one output, round\n",
    "        \n",
    "    #plt.imshow(img)\n",
    "    #plt.title(\"Prediction: \" + str(pred_class))\n",
    "    #plt.axis(False);\n",
    "        \n",
    "    return pred_class\n",
    "\n",
    "# Evaluation over 100 images\n",
    "def evaluation_100(model):\n",
    "    good = 0\n",
    "    for i in range(100):\n",
    "        idx=random.randint(0,399)\n",
    "        test_image = test_dir + \"\\\\\" + str(names[idx]) + \"\\\\1.jpg\"\n",
    "        pred_class = pred_and_plot(model, test_image, names)\n",
    "        if (names[idx] == pred_class):\n",
    "            good += 1\n",
    "    return good"
   ]
  },
  {
   "cell_type": "code",
   "execution_count": 26,
   "id": "6bcf5385-a4cc-46a0-a286-747934da468c",
   "metadata": {},
   "outputs": [
    {
     "name": "stdout",
     "output_type": "stream",
     "text": [
      "1/1 [==============================] - 0s 62ms/step\n",
      "ORIENTAL BAY OWL True\n"
     ]
    }
   ],
   "source": [
    "#check random picture\n",
    "idx=random.randint(0,400)\n",
    "names = os.listdir(dirs[0])\n",
    "file = test_dir + \"\\\\\" + str(names[idx]) + \"\\\\1.jpg\"\n",
    "\n",
    "pred = pred_and_plot(model_V2, file, names)\n",
    "\n",
    "print( pred,  names[idx]==pred )"
   ]
  },
  {
   "cell_type": "code",
   "execution_count": 27,
   "id": "2defd38b-b885-4722-a3bf-a6792eaee9fa",
   "metadata": {},
   "outputs": [],
   "source": [
    "results['Predictions'].append(pred)"
   ]
  },
  {
   "cell_type": "code",
   "execution_count": 28,
   "id": "c939a85f-82bf-471d-88c8-60eaa68b3ee3",
   "metadata": {},
   "outputs": [],
   "source": [
    "df = pd.DataFrame(results)\n",
    "df.to_csv('results.csv')"
   ]
  },
  {
   "cell_type": "code",
   "execution_count": 37,
   "id": "ed0e6859-487a-4e60-9f22-9c39f99cb1b6",
   "metadata": {},
   "outputs": [
    {
     "name": "stdout",
     "output_type": "stream",
     "text": [
      "1,ORIENTAL BAY OWL\n",
      "\n"
     ]
    }
   ],
   "source": [
    "import csv\n",
    "with open('results.csv', 'r') as f:\n",
    "    lines = f.readlines()\n",
    "    last_row = lines[-1]\n",
    "print(last_row)"
   ]
  },
  {
   "cell_type": "code",
   "execution_count": null,
   "id": "218b997f-1a95-43a6-b610-b1eeafa03e5f",
   "metadata": {},
   "outputs": [],
   "source": []
  }
 ],
 "metadata": {
  "kernelspec": {
   "display_name": "Python 3 (ipykernel)",
   "language": "python",
   "name": "python3"
  },
  "language_info": {
   "codemirror_mode": {
    "name": "ipython",
    "version": 3
   },
   "file_extension": ".py",
   "mimetype": "text/x-python",
   "name": "python",
   "nbconvert_exporter": "python",
   "pygments_lexer": "ipython3",
   "version": "3.9.7"
  },
  "vscode": {
   "interpreter": {
    "hash": "28b06ec166af8c83e5882731fef908354c2d57d9b46df793dcdb4efcedb4ca54"
   }
  }
 },
 "nbformat": 4,
 "nbformat_minor": 5
}

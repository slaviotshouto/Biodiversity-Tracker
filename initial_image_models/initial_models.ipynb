{
 "cells": [
  {
   "cell_type": "code",
   "execution_count": 43,
   "id": "74ab2432-86de-47b1-a6cc-f7db6a430888",
   "metadata": {},
   "outputs": [],
   "source": [
    "# Importing packages\n",
    "from PIL import Image\n",
    "import numpy as np\n",
    "import pandas as pd\n",
    "from sklearn.model_selection import train_test_split\n",
    "import matplotlib.pyplot as plt \n",
    "import splitfolders"
   ]
  },
  {
   "cell_type": "code",
   "execution_count": 44,
   "id": "b29b36c4-1bb6-4c66-9e1e-9beb5d5f3b55",
   "metadata": {},
   "outputs": [
    {
     "name": "stdout",
     "output_type": "stream",
     "text": [
      "400\n",
      "400\n"
     ]
    }
   ],
   "source": [
    "# Opening data\n",
    "import os \n",
    "\n",
    "#walk through the directory and list the numbers of files\n",
    "for dirpath, dirnames, filenames in os.walk(\"/kaggle/input/100-bird-species\"):\n",
    "    print(f\"There are {len(dirnames)} directories and {len(filenames)} images in {dirpath}\")\n",
    "\n",
    "# List of names\n",
    "names = os.listdir(\"train\")\n",
    "num_of_bird_groups = len(os.listdir(\"train\"))\n",
    "print(num_of_bird_groups)\n",
    "\n",
    "names_test = os.listdir(\"test\")\n",
    "x = len(os.listdir(\"test\"))\n",
    "print(x)"
   ]
  },
  {
   "cell_type": "code",
   "execution_count": 45,
   "id": "4c02614d-5ac8-4ff5-a239-556006bd8602",
   "metadata": {},
   "outputs": [
    {
     "name": "stdout",
     "output_type": "stream",
     "text": [
      "400\n",
      "400\n",
      "001.jpg\n",
      "['001.jpg', '002.jpg', '003.jpg', '004.jpg', '005.jpg', '006.jpg', '007.jpg', '008.jpg', '009.jpg', '010.jpg', '011.jpg', '012.jpg', '013.jpg', '014.jpg', '015.jpg', '016.jpg', '017.jpg', '018.jpg', '019.jpg', '020.jpg', '021.jpg', '022.jpg', '023.jpg', '024.jpg', '025.jpg', '026.jpg', '027.jpg', '028.jpg', '029.jpg', '030.jpg', '031.jpg', '032.jpg', '033.jpg', '034.jpg', '035.jpg', '036.jpg', '037.jpg', '038.jpg', '039.jpg', '040.jpg', '041.jpg', '042.jpg', '043.jpg', '044.jpg', '045.jpg', '046.jpg', '047.jpg', '048.jpg', '049.jpg', '050.jpg', '051.jpg', '052.jpg', '053.jpg', '054.jpg', '055.jpg', '056.jpg', '057.jpg', '058.jpg', '059.jpg', '060.jpg', '061.jpg', '062.jpg', '063.jpg', '064.jpg', '065.jpg', '066.jpg', '067.jpg', '068.jpg', '069.jpg', '070.jpg', '071.jpg', '072.jpg', '073.jpg', '074.jpg', '075.jpg', '076.jpg', '077.jpg', '078.jpg', '079.jpg', '080.jpg', '081.jpg', '082.jpg', '083.jpg', '084.jpg', '085.jpg', '086.jpg', '087.jpg', '088.jpg', '089.jpg', '090.jpg', '091.jpg', '092.jpg', '093.jpg', '094.jpg', '095.jpg', '096.jpg', '097.jpg', '098.jpg', '099.jpg', '100.jpg', '101.jpg', '102.jpg', '103.jpg', '104.jpg', '105.jpg', '106.jpg', '107.jpg', '108.jpg', '109.jpg', '110.jpg', '111.jpg', '112.jpg', '113.jpg', '114.jpg', '115.jpg', '116.jpg', '117.jpg', '118.jpg', '119.jpg', '120.jpg', '121.jpg', '122.jpg', '123.jpg', '124.jpg', '125.jpg', '126.jpg', '127.jpg', '128.jpg', '129.jpg', '130.jpg', '131.jpg', '132.jpg', '133.jpg', '134.jpg', '135.jpg', '136.jpg', '137.jpg', '138.jpg', '139.jpg', '140.jpg', '141.jpg', '142.jpg', '143.jpg', '144.jpg', '145.jpg', '146.jpg', '147.jpg', '148.jpg', '149.jpg', '150.jpg', '151.jpg', '152.jpg', '153.jpg', '154.jpg', '155.jpg', '156.jpg', '157.jpg', '158.jpg', '159.jpg', '160.jpg', '161.jpg', '162.jpg', '163.jpg', '164.jpg', '165.jpg', '166.jpg']\n"
     ]
    }
   ],
   "source": [
    "dirs = [\"train\", \"valid\", \"test\", \"images to test\"]\n",
    "print(len(names))\n",
    "print(len(os.listdir(dirs[0])))\n",
    "i=0\n",
    "target_class = names[i]\n",
    "target_folder = dirs[0] + \"/\" + target_class\n",
    "print((os.listdir(target_folder), 1)[0][i])\n",
    "print(os.listdir(target_folder))"
   ]
  },
  {
   "cell_type": "code",
   "execution_count": 46,
   "id": "480d57ec-9b4f-46cd-9f55-a26ef5e84821",
   "metadata": {},
   "outputs": [
    {
     "name": "stderr",
     "output_type": "stream",
     "text": [
      "C:\\Users\\Max\\AppData\\Local\\Temp/ipykernel_1980/1020334352.py:7: VisibleDeprecationWarning: Creating an ndarray from ragged nested sequences (which is a list-or-tuple of lists-or-tuples-or ndarrays with different lengths or shapes) is deprecated. If you meant to do this, you must specify 'dtype=object' when creating the ndarray.\n",
      "  arr = np.array(alles)\n"
     ]
    }
   ],
   "source": [
    "# Building list of all paths\n",
    "alles = []\n",
    "for i in range(len(names)):\n",
    "    target_class = names[i]\n",
    "    target_folder = dirs[0] + \"/\" + target_class\n",
    "    alles.append(os.listdir(target_folder))\n",
    "arr = np.array(alles)\n",
    "\n",
    "alles_test = []\n",
    "for i in range(len(names_test)):\n",
    "    target_class = names_test[i]\n",
    "    target_folder = dirs[2] + \"/\" + target_class\n",
    "    alles_test.append(os.listdir(target_folder))\n",
    "arr_test = np.array(alles_test)"
   ]
  },
  {
   "cell_type": "code",
   "execution_count": 47,
   "id": "e32b873a-d9e2-4f80-9fad-ed95e9e8f5af",
   "metadata": {},
   "outputs": [],
   "source": [
    "# Transform jpg into array\n",
    "from PIL import Image\n",
    "from numpy import asarray"
   ]
  },
  {
   "cell_type": "code",
   "execution_count": 48,
   "id": "1bb1bb55-f629-4a53-91a9-f6103194e3b9",
   "metadata": {},
   "outputs": [
    {
     "name": "stdout",
     "output_type": "stream",
     "text": [
      "(224, 224, 3)\n"
     ]
    }
   ],
   "source": [
    "target_class = names[0]\n",
    "target_folder = dirs[0] + \"/\" + target_class\n",
    "image = Image.open(target_folder + \"/\" + arr[0][0])\n",
    "image.resize((30,30))\n",
    "data = asarray(image)\n",
    "print(data.shape)"
   ]
  },
  {
   "cell_type": "code",
   "execution_count": 49,
   "id": "69ecbfd1-ba33-4e31-9edf-125655b070d5",
   "metadata": {},
   "outputs": [
    {
     "name": "stdout",
     "output_type": "stream",
     "text": [
      "Iteration 1 : data ready\n",
      "Iteration 1 : training done with anaccuracy of 0.115\n",
      "Iteration 2 : data ready\n",
      "Iteration 2 : training done with anaccuracy of 0.13\n",
      "Iteration 3 : data ready\n",
      "Iteration 3 : training done with anaccuracy of 0.1025\n",
      "Iteration 4 : data ready\n",
      "Iteration 4 : training done with anaccuracy of 0.1275\n",
      "Iteration 5 : data ready\n",
      "Iteration 5 : training done with anaccuracy of 0.145\n",
      "Iteration 6 : data ready\n",
      "Iteration 6 : training done with anaccuracy of 0.1675\n",
      "Iteration 7 : data ready\n",
      "Iteration 7 : training done with anaccuracy of 0.1775\n",
      "Iteration 8 : data ready\n",
      "Iteration 8 : training done with anaccuracy of 0.1775\n",
      "Iteration 9 : data ready\n",
      "Iteration 9 : training done with anaccuracy of 0.1575\n",
      "Iteration 10 : data ready\n",
      "Iteration 10 : training done with anaccuracy of 0.18\n",
      "Iteration 11 : data ready\n",
      "Iteration 11 : training done with anaccuracy of 0.18\n",
      "Iteration 12 : data ready\n",
      "Iteration 12 : training done with anaccuracy of 0.19\n",
      "Iteration 13 : data ready\n",
      "Iteration 13 : training done with anaccuracy of 0.1875\n",
      "Iteration 14 : data ready\n",
      "Iteration 14 : training done with anaccuracy of 0.1825\n",
      "Iteration 15 : data ready\n",
      "Iteration 15 : training done with anaccuracy of 0.1875\n",
      "Iteration 16 : data ready\n",
      "Iteration 16 : training done with anaccuracy of 0.1925\n",
      "Iteration 17 : data ready\n",
      "Iteration 17 : training done with anaccuracy of 0.1825\n",
      "Iteration 18 : data ready\n",
      "Iteration 18 : training done with anaccuracy of 0.1675\n",
      "Iteration 19 : data ready\n",
      "Iteration 19 : training done with anaccuracy of 0.1725\n",
      "Iteration 20 : data ready\n",
      "Iteration 20 : training done with anaccuracy of 0.18\n",
      "Iteration 21 : data ready\n",
      "Iteration 21 : training done with anaccuracy of 0.1675\n",
      "Iteration 22 : data ready\n",
      "Iteration 22 : training done with anaccuracy of 0.1675\n",
      "Iteration 23 : data ready\n",
      "Iteration 23 : training done with anaccuracy of 0.155\n",
      "Iteration 24 : data ready\n",
      "Iteration 24 : training done with anaccuracy of 0.1575\n",
      "Iteration 25 : data ready\n",
      "Iteration 25 : training done with anaccuracy of 0.17\n",
      "Iteration 26 : data ready\n",
      "Iteration 26 : training done with anaccuracy of 0.1775\n",
      "Iteration 27 : data ready\n",
      "Iteration 27 : training done with anaccuracy of 0.185\n",
      "Iteration 28 : data ready\n",
      "Iteration 28 : training done with anaccuracy of 0.1775\n",
      "Iteration 29 : data ready\n",
      "Iteration 29 : training done with anaccuracy of 0.1825\n"
     ]
    }
   ],
   "source": [
    "# Building actual model\n",
    "# I am checking if the assumptions is good - if the accuracy will rise as n rises we are good to\n",
    "# extend the model to whole dataset\n",
    "\n",
    "from sklearn.neighbors import KNeighborsClassifier\n",
    "from sklearn.metrics import accuracy_score\n",
    "import random \n",
    "\n",
    "iterations = []\n",
    "scores = []\n",
    "\n",
    "cut = 50\n",
    "step = 5\n",
    "\n",
    "for n_iterations in range(1,30):\n",
    "    \n",
    "    iterations.append(n_iterations)\n",
    "    \n",
    "    #set X_train as an array of first n pictures of every bird\n",
    "    #here: transform pictures into arrays\n",
    "    X = []\n",
    "    for n in range(n_iterations):\n",
    "        for i in range(len(arr)):\n",
    "            target_class = names[i]\n",
    "            target_folder = dirs[0] + \"/\" + target_class\n",
    "            image = Image.open(target_folder + \"/\" + arr[i][n])\n",
    "            data = asarray(image)\n",
    "            X.append(data)\n",
    "        \n",
    "    X_arr = np.array(X)\n",
    "    np.mean(X_arr, axis= 0)\n",
    "    \n",
    "    #transform an array from 4D to 2D\n",
    "    combined = []\n",
    "    for i in range(X_arr.shape[0]):\n",
    "        x = []\n",
    "        for j in range(0, X_arr.shape[1], step):\n",
    "            for k in range(0, X_arr.shape[2], step):\n",
    "                for l in range(X_arr.shape[3]):\n",
    "                    x.append(X_arr[i][j][k][l])\n",
    "        combined.append(x)\n",
    "\n",
    "    X_train = np.array(combined)\n",
    "    \n",
    "    #set X_test as an array one picture of every bird from test set\n",
    "    Xt = []\n",
    "    for i in range(len(arr)):\n",
    "        target_class = names_test[i]\n",
    "        target_folder = dirs[2] + \"/\" + target_class\n",
    "        image = Image.open(target_folder + \"/\" + arr_test[i][0])\n",
    "        data = asarray(image)\n",
    "        Xt.append(data)\n",
    "\n",
    "    X_arrt = np.array(Xt)\n",
    "    \n",
    "    newt = []\n",
    "    for i in range(X_arrt.shape[0]):\n",
    "        x = []\n",
    "        for j in range(0, X_arrt.shape[1], step):\n",
    "            for k in range(0, X_arrt.shape[2], step):\n",
    "                for l in range(X_arr.shape[3]):\n",
    "                    x.append(X_arr[i][j][k][l])\n",
    "        newt.append(x)\n",
    "    \n",
    "    X_test = np.array(newt)\n",
    "    \n",
    "    print(\"Iteration\", n_iterations, \": data ready\")\n",
    "    \n",
    "    #set y_train as an array of bird names repeated n_iteration times\n",
    "    y=names.copy()\n",
    "    for i in range(n_iterations-1):\n",
    "        y.extend(names)\n",
    "    y_train = np.array(y)\n",
    "    \n",
    "    #set y_train as an array of bird names\n",
    "    y2=names_test.copy()\n",
    "    y_test = np.array(y2)\n",
    "    \n",
    "    #test the model \n",
    "    knn = KNeighborsClassifier(n_neighbors = 7).fit(X_train,y_train)\n",
    "    #random.shuffle(X_test)\n",
    "    y_pred = knn.predict(X_test)\n",
    "    \n",
    "    #evaluate the model\n",
    "    score = accuracy_score(y_test, y_pred)\n",
    "    scores.append(score)\n",
    "    \n",
    "    print(\"Iteration\", n_iterations, \": training done with anaccuracy of\", score)\n"
   ]
  },
  {
   "cell_type": "code",
   "execution_count": 50,
   "id": "a7b5df86-ee43-43da-858d-c8042c50f343",
   "metadata": {},
   "outputs": [
    {
     "name": "stdout",
     "output_type": "stream",
     "text": [
      "1 iterations --> accuracy score 0.115\n",
      "2 iterations --> accuracy score 0.13\n",
      "3 iterations --> accuracy score 0.1025\n",
      "4 iterations --> accuracy score 0.1275\n",
      "5 iterations --> accuracy score 0.145\n",
      "6 iterations --> accuracy score 0.1675\n",
      "7 iterations --> accuracy score 0.1775\n",
      "8 iterations --> accuracy score 0.1775\n",
      "9 iterations --> accuracy score 0.1575\n",
      "10 iterations --> accuracy score 0.18\n",
      "11 iterations --> accuracy score 0.18\n",
      "12 iterations --> accuracy score 0.19\n",
      "13 iterations --> accuracy score 0.1875\n",
      "14 iterations --> accuracy score 0.1825\n",
      "15 iterations --> accuracy score 0.1875\n",
      "16 iterations --> accuracy score 0.1925\n",
      "17 iterations --> accuracy score 0.1825\n",
      "18 iterations --> accuracy score 0.1675\n",
      "19 iterations --> accuracy score 0.1725\n",
      "20 iterations --> accuracy score 0.18\n",
      "21 iterations --> accuracy score 0.1675\n",
      "22 iterations --> accuracy score 0.1675\n",
      "23 iterations --> accuracy score 0.155\n",
      "24 iterations --> accuracy score 0.1575\n",
      "25 iterations --> accuracy score 0.17\n",
      "26 iterations --> accuracy score 0.1775\n",
      "27 iterations --> accuracy score 0.185\n",
      "28 iterations --> accuracy score 0.1775\n",
      "29 iterations --> accuracy score 0.1825\n"
     ]
    },
    {
     "data": {
      "text/plain": [
       "Text(0, 0.5, 'accuracy')"
      ]
     },
     "execution_count": 50,
     "metadata": {},
     "output_type": "execute_result"
    },
    {
     "data": {
      "image/png": "[encoded data removed]",
      "text/plain": [
       "<Figure size 432x288 with 1 Axes>"
      ]
     },
     "metadata": {
      "needs_background": "light"
     },
     "output_type": "display_data"
    }
   ],
   "source": [
    "import matplotlib.pyplot as plt \n",
    "\n",
    "for i in range(len(scores)):\n",
    "    print(iterations[i], \"iterations --> accuracy score\", scores[i])\n",
    "    \n",
    "plt.plot(iterations, scores)\n",
    "plt.xlabel(\"number of bird photos\")\n",
    "plt.ylabel(\"accuracy\")\n"
   ]
  },
  {
   "cell_type": "code",
   "execution_count": 51,
   "id": "d69fcb20-0a0b-43da-beeb-167e86957e05",
   "metadata": {},
   "outputs": [
    {
     "name": "stdout",
     "output_type": "stream",
     "text": [
      "Data ready\n"
     ]
    }
   ],
   "source": [
    "# the same preprocessing, cheking every 5 pixel in phtoto\n",
    "\n",
    "n_iterations = 12\n",
    "step = 5\n",
    "\n",
    "X = []\n",
    "for i in range(1):\n",
    "    for n in range(n_iterations):\n",
    "        for i in range(len(arr)):\n",
    "            target_class = names[i]\n",
    "            target_folder = dirs[0] + \"/\" + target_class\n",
    "            image = Image.open(target_folder + \"/\" + arr[i][n])\n",
    "            data = asarray(image)\n",
    "            X.append(data)\n",
    "        \n",
    "    X_arr = np.array(X)\n",
    "    \n",
    "    #transform an array from 4D to 2D\n",
    "    combined = []\n",
    "    for i in range(X_arr.shape[0]):\n",
    "        x = []\n",
    "        for j in range(0, X_arr.shape[1], step):\n",
    "            for k in range(0, X_arr.shape[2], step):\n",
    "                for l in range(X_arr.shape[3]):\n",
    "                    x.append(X_arr[i][j][k][l])\n",
    "        combined.append(x)\n",
    "\n",
    "    X_train = np.array(combined)\n",
    "    \n",
    "    #set X_test as an array one picture of every bird from test set\n",
    "    Xt = []\n",
    "    for i in range(len(arr)):\n",
    "        target_class = names_test[i]\n",
    "        target_folder = dirs[2] + \"/\" + target_class\n",
    "        image = Image.open(target_folder + \"/\" + arr_test[i][0])\n",
    "        data = asarray(image)\n",
    "        Xt.append(data)\n",
    "\n",
    "    X_arrt = np.array(Xt)\n",
    "    \n",
    "    newt = []\n",
    "    for i in range(X_arrt.shape[0]):\n",
    "        x = []\n",
    "        for j in range(0, X_arrt.shape[1],step):\n",
    "            for k in range(0, X_arrt.shape[2],step):\n",
    "                for l in range(X_arr.shape[3]):\n",
    "                    x.append(X_arr[i][j][k][l])\n",
    "        newt.append(x)\n",
    "    \n",
    "    X_test = np.array(newt)\n",
    "    \n",
    "    print(\"Data ready\")\n",
    "    \n",
    "    #set y_train as an array of bird names repeated n_iteration times\n",
    "    y=names.copy()\n",
    "    for i in range(n_iterations-1):\n",
    "        y.extend(names)\n",
    "    y_train = np.array(y)\n",
    "    \n",
    "    #set y_train as an array of bird names\n",
    "    y2=names_test.copy()\n",
    "    y_test = np.array(y2)"
   ]
  },
  {
   "cell_type": "code",
   "execution_count": 53,
   "id": "b59322b3-f684-4486-bb59-598cb5e22b15",
   "metadata": {},
   "outputs": [
    {
     "name": "stdout",
     "output_type": "stream",
     "text": [
      "Logistic regreession accuracy: 0.9975\n"
     ]
    }
   ],
   "source": [
    "#Logistic regression\n",
    "from sklearn.linear_model import LogisticRegression\n",
    "\n",
    "lr = LogisticRegression( max_iter = 1000).fit(X_train,y_train)\n",
    "y_pred = lr.predict(X_test)\n",
    "print( \"Logistic regreession accuracy:\", accuracy_score(y_test, y_pred) )"
   ]
  },
  {
   "cell_type": "markdown",
   "id": "4a114bbc-aed3-4d94-a150-a21aaafc9b18",
   "metadata": {},
   "source": [
    "from sklearn.svm import LinearSVC\n",
    "svm = LinearSVC().fit(X_train,y_train)\n",
    "y_pred p svm.predict(X_test)\n",
    "print( \"SVM accuracy:\", accuracy_score(y_test, y_pred) )"
   ]
  },
  {
   "cell_type": "code",
   "execution_count": 54,
   "id": "7a1ab4aa-7ff8-4945-b6a3-9774cd296614",
   "metadata": {},
   "outputs": [
    {
     "name": "stdout",
     "output_type": "stream",
     "text": [
      "SVM accuracy: 0.9975\n"
     ]
    },
    {
     "name": "stderr",
     "output_type": "stream",
     "text": [
      "C:\\Users\\Max\\anaconda3\\lib\\site-packages\\sklearn\\svm\\_base.py:1206: ConvergenceWarning: Liblinear failed to converge, increase the number of iterations.\n",
      "  warnings.warn(\n"
     ]
    }
   ],
   "source": [
    "#SVM\n",
    "from sklearn.svm import LinearSVC \n",
    "\n",
    "svm = LinearSVC().fit(X_train,y_train) \n",
    "y_pred = svm.predict(X_test) \n",
    "print( \"SVM accuracy:\", accuracy_score(y_test, y_pred) )"
   ]
  },
  {
   "cell_type": "code",
   "execution_count": 55,
   "id": "939ca4bf-01a8-45a7-9311-fbaf14db5773",
   "metadata": {},
   "outputs": [],
   "source": [
    "#Random Forest  using 5-fold cross validation\n",
    "from sklearn.ensemble import RandomForestClassifier\n",
    "from sklearn.model_selection import GridSearchCV\n",
    "\n",
    "param_grid_rf = {\n",
    "    'max_depth': [7, 11, 15, 19, 23]}\n",
    "grid_search_rf = GridSearchCV(RandomForestClassifier(), param_grid_rf, cv = 5)\n",
    "grid_search_rf.fit(X_train, y_train)\n",
    "\n",
    "y_pred = grid_search_rf.predict(X_test) \n"
   ]
  },
  {
   "cell_type": "code",
   "execution_count": 56,
   "id": "3d3c7ca7-db8a-4436-bffa-9d368d105a0a",
   "metadata": {},
   "outputs": [
    {
     "name": "stdout",
     "output_type": "stream",
     "text": [
      "Random Forest accuracy: 0.8625\n",
      "Random Forest precision: 0.8625\n",
      "Random Forest F1 score:  0.8625\n",
      "{'max_depth': 19}\n"
     ]
    }
   ],
   "source": [
    "from sklearn.metrics import accuracy_score, f1_score, precision_score\n",
    "import pandas as pd\n",
    "\n",
    "print( \"Random Forest accuracy:\", accuracy_score(y_test, y_pred) )\n",
    "print( \"Random Forest precision:\", precision_score(y_test, y_pred, average='micro') )\n",
    "print( \"Random Forest F1 score: \", f1_score(y_test, y_pred, average='micro') )\n",
    "print(grid_search_rf.best_params_)\n"
   ]
  },
  {
   "cell_type": "code",
   "execution_count": 72,
   "id": "c4b3a18e-fd13-46c4-92c8-31dadea59c35",
   "metadata": {},
   "outputs": [
    {
     "name": "stdout",
     "output_type": "stream",
     "text": [
      "BULWERS PHEASANT\n"
     ]
    },
    {
     "data": {
      "text/plain": [
       "RandomForestClassifier(max_depth=19)"
      ]
     },
     "execution_count": 72,
     "metadata": {},
     "output_type": "execute_result"
    }
   ],
   "source": [
    "#random check\n",
    "from math import floor\n",
    "import random\n",
    "\n",
    "random = floor(random.random()*400)\n",
    "\n",
    "#set X_test as an array one picture of every bird from test set\n",
    "target_class = names_test[random]\n",
    "target_folder = dirs[2] + \"/\" + target_class\n",
    "image = Image.open(target_folder + \"/\" + arr_test[random][0])\n",
    "print(names_test[random])\n",
    "#image.show()\n",
    "data = asarray(image)\n",
    "Xt.append(data)\n",
    "\n",
    "X_arrt = np.array(Xt)\n",
    "    \n",
    "newt = []\n",
    "x=[]\n",
    "for j in range(0, X_arrt.shape[1],step):\n",
    "    for k in range(0, X_arrt.shape[2],step):\n",
    "        for l in range(X_arr.shape[3]):\n",
    "            x.append(X_arr[0][j][k][l])\n",
    "newt.append(x)\n",
    "X_random_test = np.array(newt)\n",
    "    \n",
    "#set y_train as an array of bird names\n",
    "y2=names_test[random]\n",
    "y_test = np.array(y2)\n",
    "\n",
    "#Showing random picture\n",
    "rf = RandomForestClassifier(max_depth = 19)\n",
    "rf.fit(X_train, y_train)"
   ]
  },
  {
   "cell_type": "code",
   "execution_count": 73,
   "id": "f3409c2a-951f-4780-bc43-802a4e5de6a6",
   "metadata": {},
   "outputs": [
    {
     "name": "stdout",
     "output_type": "stream",
     "text": [
      "Random Forest prediction:  ['ABBOTTS BABBLER']\n"
     ]
    }
   ],
   "source": [
    "#Showing random picture\n",
    "y_rf = grid_search_rf.predict(X_random_test) \n",
    "print(\"Random Forest prediction: \", y_rf)\n",
    "#print(len(y_rf), len(X_train), len(X_random_test), X_arrt.shape)"
   ]
  }
 ],
 "metadata": {
  "kernelspec": {
   "display_name": "Python 3 (ipykernel)",
   "language": "python",
   "name": "python3"
  },
  "language_info": {
   "codemirror_mode": {
    "name": "ipython",
    "version": 3
   },
   "file_extension": ".py",
   "mimetype": "text/x-python",
   "name": "python",
   "nbconvert_exporter": "python",
   "pygments_lexer": "ipython3",
   "version": "3.9.7"
  }
 },
 "nbformat": 4,
 "nbformat_minor": 5
}
